{
 "cells": [
  {
   "cell_type": "code",
   "execution_count": null,
   "id": "c35fb4af",
   "metadata": {
    "scrolled": true
   },
   "outputs": [],
   "source": [
    "import pandas as pd\n",
    "import numpy as np\n",
    "import matplotlib.pyplot as plt\n",
    "import seaborn as sns\n",
    "from sklearn.linear_model import LogisticRegression\n",
    "from sklearn.metrics import confusion_matrix\n",
    "from sklearn.metrics import roc_curve\n",
    "from sklearn.metrics import roc_auc_score"
   ]
  },
  {
   "cell_type": "code",
   "execution_count": null,
   "id": "a12d9a8a",
   "metadata": {
    "scrolled": true
   },
   "outputs": [],
   "source": [
    "data = pd.read_csv('bank-full.csv')"
   ]
  },
  {
   "cell_type": "code",
   "execution_count": null,
   "id": "e29280ea",
   "metadata": {
    "scrolled": true
   },
   "outputs": [],
   "source": [
    "data.head()"
   ]
  },
  {
   "cell_type": "code",
   "execution_count": null,
   "id": "6541f232",
   "metadata": {
    "scrolled": true
   },
   "outputs": [],
   "source": [
    "data.info()"
   ]
  },
  {
   "cell_type": "code",
   "execution_count": null,
   "id": "fa0ad369",
   "metadata": {},
   "outputs": [],
   "source": [
    "data.boxplot();"
   ]
  },
  {
   "cell_type": "code",
   "execution_count": null,
   "id": "bd1956d3",
   "metadata": {},
   "outputs": [],
   "source": [
    "sns.boxplot(data['balance']);"
   ]
  },
  {
   "cell_type": "code",
   "execution_count": null,
   "id": "f2c62caf",
   "metadata": {},
   "outputs": [],
   "source": [
    "#one hot encoding\n",
    "data1=pd.get_dummies(data,columns=['job','marital','education','contact','poutcome','month'])"
   ]
  },
  {
   "cell_type": "code",
   "execution_count": null,
   "id": "945321bf",
   "metadata": {},
   "outputs": [],
   "source": [
    "data1"
   ]
  },
  {
   "cell_type": "code",
   "execution_count": null,
   "id": "26c6ed14",
   "metadata": {},
   "outputs": [],
   "source": [
    "data1.info()"
   ]
  },
  {
   "cell_type": "code",
   "execution_count": null,
   "id": "19decccd",
   "metadata": {},
   "outputs": [],
   "source": [
    "data1['default'] = np.where(data1['default'].str.contains(\"yes\"), 1, 0)\n",
    "data1['housing'] = np.where(data1['housing'].str.contains(\"yes\"), 1, 0)\n",
    "data1['loan'] = np.where(data1['loan'].str.contains(\"yes\"), 1, 0)\n",
    "data1['y'] = np.where(data1['y'].str.contains(\"yes\"), 1, 0)"
   ]
  },
  {
   "cell_type": "code",
   "execution_count": null,
   "id": "75cf1cb7",
   "metadata": {},
   "outputs": [],
   "source": [
    "data1"
   ]
  },
  {
   "cell_type": "code",
   "execution_count": null,
   "id": "be5b16a1",
   "metadata": {},
   "outputs": [],
   "source": [
    "data1.info()"
   ]
  },
  {
   "cell_type": "code",
   "execution_count": null,
   "id": "3c8b23fa",
   "metadata": {},
   "outputs": [],
   "source": [
    "data1.boxplot('balance');"
   ]
  },
  {
   "cell_type": "markdown",
   "id": "b7569d98",
   "metadata": {},
   "source": [
    "MODEL BUILDING"
   ]
  },
  {
   "cell_type": "code",
   "execution_count": null,
   "id": "8d426660",
   "metadata": {},
   "outputs": [],
   "source": [
    "x=pd.concat([data1.iloc[:,0:10],data1.iloc[:,11:]],axis=1)\n",
    "y=data1.iloc[:,10]"
   ]
  },
  {
   "cell_type": "code",
   "execution_count": null,
   "id": "e8891fa7",
   "metadata": {},
   "outputs": [],
   "source": [
    "classifier=LogisticRegression()\n",
    "classifier.fit(x,y)"
   ]
  },
  {
   "cell_type": "code",
   "execution_count": null,
   "id": "d71a2987",
   "metadata": {},
   "outputs": [],
   "source": [
    "y_pred=classifier.predict(x)"
   ]
  },
  {
   "cell_type": "code",
   "execution_count": null,
   "id": "00438af8",
   "metadata": {},
   "outputs": [],
   "source": [
    "y_pred"
   ]
  },
  {
   "cell_type": "code",
   "execution_count": null,
   "id": "72dd7099",
   "metadata": {},
   "outputs": [],
   "source": [
    "y_pred_df=pd.DataFrame({'y_actual':y,'y_pred':y_pred})"
   ]
  },
  {
   "cell_type": "code",
   "execution_count": null,
   "id": "bf83b33a",
   "metadata": {},
   "outputs": [],
   "source": [
    "y_pred_df"
   ]
  },
  {
   "cell_type": "code",
   "execution_count": null,
   "id": "e4264996",
   "metadata": {},
   "outputs": [],
   "source": [
    "confusion_matrix = confusion_matrix(y,y_pred)"
   ]
  },
  {
   "cell_type": "code",
   "execution_count": null,
   "id": "fea59c57",
   "metadata": {},
   "outputs": [],
   "source": [
    "confusion_matrix"
   ]
  },
  {
   "cell_type": "code",
   "execution_count": null,
   "id": "d1c0eeb5",
   "metadata": {},
   "outputs": [],
   "source": [
    "#model accuracy is calculated by correct predictions/total no. of predictions\n",
    "(39033+4000)/(39033+889+4000+1289)"
   ]
  },
  {
   "cell_type": "code",
   "execution_count": null,
   "id": "aca37208",
   "metadata": {},
   "outputs": [],
   "source": [
    "classifier.predict_proba(x)[:,1]"
   ]
  },
  {
   "cell_type": "code",
   "execution_count": null,
   "id": "517a00a4",
   "metadata": {},
   "outputs": [],
   "source": [
    "fpr,tpr,thresholds=roc_curve(y,classifier.predict_proba(x)[:,1])\n",
    "plt.plot(fpr,tpr,color='red')\n",
    "auc=roc_auc_score(y,y_pred)\n",
    "\n",
    "plt.plot(fpr,tpr,color='red',label='logit model(area  = %0.2f)'%auc)\n",
    "plt.plot([0,1],[0,1],'k--')\n",
    "plt.xlabel('False Positive Rate or [1 - True Negative Rate]')\n",
    "plt.ylabel('True Positive Rate');\n"
   ]
  },
  {
   "cell_type": "code",
   "execution_count": null,
   "id": "f6ed76b4",
   "metadata": {},
   "outputs": [],
   "source": [
    "print('auc accuracy:',auc)"
   ]
  },
  {
   "cell_type": "code",
   "execution_count": null,
   "id": "c574d818",
   "metadata": {},
   "outputs": [],
   "source": []
  }
 ],
 "metadata": {
  "kernelspec": {
   "display_name": "Python 3 (ipykernel)",
   "language": "python",
   "name": "python3"
  },
  "language_info": {
   "codemirror_mode": {
    "name": "ipython",
    "version": 3
   },
   "file_extension": ".py",
   "mimetype": "text/x-python",
   "name": "python",
   "nbconvert_exporter": "python",
   "pygments_lexer": "ipython3",
   "version": "3.9.12"
  }
 },
 "nbformat": 4,
 "nbformat_minor": 5
}
